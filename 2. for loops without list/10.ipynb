{
 "cells": [
  {
   "cell_type": "markdown",
   "metadata": {},
   "source": [
    "10. Given a positive integer, convert it into binary, and vice-versa."
   ]
  },
  {
   "cell_type": "code",
   "execution_count": 10,
   "metadata": {},
   "outputs": [
    {
     "name": "stdout",
     "output_type": "stream",
     "text": [
      "binary of 17 is  10001\n"
     ]
    }
   ],
   "source": [
    "# decimal to binary\n",
    "\n",
    "import math as m\n",
    "deci=int(input(\"enter a positive integer\"))\n",
    "deci1=deci\n",
    "l=int(m.log2(deci))\n",
    "bi=0\n",
    "for i in range(l+1):\n",
    "    bi=bi+(deci%2)*(10**i)\n",
    "    deci=deci//2\n",
    "print(\"binary of\", deci1,\"is \",bi)\n",
    "\n",
    "\n"
   ]
  },
  {
   "cell_type": "code",
   "execution_count": 4,
   "metadata": {},
   "outputs": [
    {
     "name": "stdout",
     "output_type": "stream",
     "text": [
      "given binary num is 101101\n",
      "decimal of given binary num is 45\n"
     ]
    }
   ],
   "source": [
    "# binary to decimal\n",
    "\n",
    "bin=input(\"enter a binary number\")\n",
    "print(\"given binary num is\",bin)\n",
    "l=len(bin)\n",
    "dec=0\n",
    "for i in range(l):\n",
    "    a=int(bin[l-i-1])\n",
    "    dec+=a*(2**i)\n",
    "print(\"decimal of given binary num is\", dec)\n"
   ]
  },
  {
   "cell_type": "code",
   "execution_count": null,
   "metadata": {},
   "outputs": [],
   "source": []
  }
 ],
 "metadata": {
  "kernelspec": {
   "display_name": "Python 3",
   "language": "python",
   "name": "python3"
  },
  "language_info": {
   "codemirror_mode": {
    "name": "ipython",
    "version": 3
   },
   "file_extension": ".py",
   "mimetype": "text/x-python",
   "name": "python",
   "nbconvert_exporter": "python",
   "pygments_lexer": "ipython3",
   "version": "3.11.4"
  }
 },
 "nbformat": 4,
 "nbformat_minor": 2
}
