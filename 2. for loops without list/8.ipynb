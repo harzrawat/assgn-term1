{
 "cells": [
  {
   "cell_type": "markdown",
   "metadata": {},
   "source": [
    "8. Given a positive integer, find all its divisors."
   ]
  },
  {
   "cell_type": "code",
   "execution_count": 2,
   "metadata": {},
   "outputs": [
    {
     "name": "stdout",
     "output_type": "stream",
     "text": [
      "72\n",
      "[1, 2, 3, 4, 6, 8, 9, 12, 18, 24, 36, 72]\n"
     ]
    }
   ],
   "source": [
    "num1=int(input(\"enter the +ve number\"))\n",
    "print(num1)\n",
    "div_lst=[]\n",
    "for i in range(1,(num1//2)+1):\n",
    "    if num1%i==0:\n",
    "        div_lst.append(i)\n",
    "div_lst.append(num1)\n",
    "print(div_lst)"
   ]
  },
  {
   "cell_type": "code",
   "execution_count": null,
   "metadata": {},
   "outputs": [],
   "source": []
  }
 ],
 "metadata": {
  "kernelspec": {
   "display_name": "Python 3",
   "language": "python",
   "name": "python3"
  },
  "language_info": {
   "codemirror_mode": {
    "name": "ipython",
    "version": 3
   },
   "file_extension": ".py",
   "mimetype": "text/x-python",
   "name": "python",
   "nbconvert_exporter": "python",
   "pygments_lexer": "ipython3",
   "version": "3.11.4"
  }
 },
 "nbformat": 4,
 "nbformat_minor": 2
}
