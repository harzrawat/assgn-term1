{
 "cells": [
  {
   "cell_type": "markdown",
   "metadata": {},
   "source": [
    "2. Given a list of numbers, find out the median and mode.\n"
   ]
  },
  {
   "cell_type": "code",
   "execution_count": 18,
   "metadata": {},
   "outputs": [
    {
     "name": "stdout",
     "output_type": "stream",
     "text": [
      "mode of the data is  2 with frequency  5\n",
      "[2, 2, 2, 2, 2, 3, 3, 3, 3, 4, 4, 5, 5, 6, 6, 7, 7, 8, 8, 9]\n",
      "median of the data is  4\n"
     ]
    }
   ],
   "source": [
    "lst1=[3, 5, 2, 7, 8, 2, 3, 4, 7, 6, 2, 9, 3, 4, 5, 6, 2, 8, 3, 2]\n",
    "c1=0\n",
    "lst2=[]\n",
    "for i in lst1:\n",
    "    if i not in lst2:\n",
    "        lst2.append(i)\n",
    "for i in lst2:\n",
    "    c=0\n",
    "    for j in lst1:\n",
    "        if i==j:\n",
    "            c+=1\n",
    "    if c>c1:\n",
    "        c1=c\n",
    "        num1=i\n",
    "print(\"mode of the data is \",num1, \"with frequency \",c1)\n",
    "\n",
    "# for median \n",
    "\n",
    "for i in range(len(lst1)):             \n",
    "    for j in range(len(lst1)):          # running 2 loops so that a number is picked first then compared with others in list\n",
    "        if lst1[i]<lst1[j]:                      # though it seems in starting that here it is for descending but at last it is for ascending\n",
    "            n1=lst1[i]\n",
    "            n2=lst1[j]\n",
    "            lst1[j]=n1\n",
    "            lst1[i]=n2\n",
    "print(lst1)\n",
    "if len(lst1)%2==0:\n",
    "    median1 = lst1[len(lst1)//2]\n",
    "else:\n",
    "    median1 = (lst1[len(lst1)//2] + lst1[(len(lst1)//2)+1])/2\n",
    "print(\"median of the data is \",median1)\n",
    "\n",
    "\n"
   ]
  },
  {
   "cell_type": "code",
   "execution_count": null,
   "metadata": {},
   "outputs": [],
   "source": []
  }
 ],
 "metadata": {
  "kernelspec": {
   "display_name": "Python 3",
   "language": "python",
   "name": "python3"
  },
  "language_info": {
   "codemirror_mode": {
    "name": "ipython",
    "version": 3
   },
   "file_extension": ".py",
   "mimetype": "text/x-python",
   "name": "python",
   "nbconvert_exporter": "python",
   "pygments_lexer": "ipython3",
   "version": "3.11.4"
  }
 },
 "nbformat": 4,
 "nbformat_minor": 2
}
