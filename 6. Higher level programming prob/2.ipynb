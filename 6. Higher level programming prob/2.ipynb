{
 "cells": [
  {
   "cell_type": "markdown",
   "metadata": {},
   "source": [
    "2. Given a list of numbers, find out the median and mode.\n"
   ]
  },
  {
   "cell_type": "code",
   "execution_count": 4,
   "metadata": {},
   "outputs": [
    {
     "name": "stdout",
     "output_type": "stream",
     "text": [
      "mode of the data is  2 with frequency  5\n"
     ]
    }
   ],
   "source": [
    "lst=[3, 5, 2, 7, 8, 2, 3, 4, 7, 6, 2, 9, 3, 4, 5, 6, 2, 8, 3, 2]\n",
    "c1=0\n",
    "for i in lst:\n",
    "    c=0\n",
    "    for j in lst:\n",
    "        if i==j:\n",
    "            c+=1\n",
    "    if c>c1:\n",
    "        c1=c\n",
    "        num1=i\n",
    "print(\"mode of the data is \",num1, \"with frequency \",c1)\n",
    "\n",
    "\n",
    "\n"
   ]
  },
  {
   "cell_type": "code",
   "execution_count": null,
   "metadata": {},
   "outputs": [],
   "source": []
  }
 ],
 "metadata": {
  "kernelspec": {
   "display_name": "Python 3",
   "language": "python",
   "name": "python3"
  },
  "language_info": {
   "codemirror_mode": {
    "name": "ipython",
    "version": 3
   },
   "file_extension": ".py",
   "mimetype": "text/x-python",
   "name": "python",
   "nbconvert_exporter": "python",
   "pygments_lexer": "ipython3",
   "version": "3.11.4"
  }
 },
 "nbformat": 4,
 "nbformat_minor": 2
}
