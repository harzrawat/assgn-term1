{
 "cells": [
  {
   "cell_type": "markdown",
   "metadata": {},
   "source": [
    "8. Given a list of integers, find the sum of all pairs of integers in the list that are equal.\n"
   ]
  },
  {
   "cell_type": "code",
   "execution_count": 7,
   "metadata": {},
   "outputs": [
    {
     "name": "stdout",
     "output_type": "stream",
     "text": [
      "[6, 14, 22]\n"
     ]
    }
   ],
   "source": [
    "num_list = [3, 7, 11, 5, 2, 9, 4, 8, 6, 15, 7, 11, 1, 14, 3, 10, 13, 18, 20, 16, 12]\n",
    "list_sum=[]\n",
    "for i in num_list:\n",
    "    c=0\n",
    "    for j in num_list:\n",
    "        if i == j and i*2 not in list_sum:   # to avoid repeatation and minimise the loops\n",
    "            c+=1\n",
    "    if c==2:\n",
    "        list_sum.append(i*2)\n",
    "print(list_sum)\n"
   ]
  },
  {
   "cell_type": "code",
   "execution_count": null,
   "metadata": {},
   "outputs": [],
   "source": []
  }
 ],
 "metadata": {
  "kernelspec": {
   "display_name": "Python 3",
   "language": "python",
   "name": "python3"
  },
  "language_info": {
   "codemirror_mode": {
    "name": "ipython",
    "version": 3
   },
   "file_extension": ".py",
   "mimetype": "text/x-python",
   "name": "python",
   "nbconvert_exporter": "python",
   "pygments_lexer": "ipython3",
   "version": "3.11.4"
  }
 },
 "nbformat": 4,
 "nbformat_minor": 2
}
