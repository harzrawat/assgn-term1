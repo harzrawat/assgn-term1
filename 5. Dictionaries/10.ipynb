{
 "cells": [
  {
   "cell_type": "markdown",
   "metadata": {},
   "source": [
    "10. Create a text file with one word in each line. The words can be repeated, i.e. the same word can come in more than one line. Read this text file in python, and create a dictionary where the key is the word and the value is the number of times it occurs in the text file."
   ]
  },
  {
   "cell_type": "code",
   "execution_count": 25,
   "metadata": {},
   "outputs": [
    {
     "name": "stdout",
     "output_type": "stream",
     "text": [
      "<_io.TextIOWrapper name='namedoc.txt' mode='r' encoding='cp1252'>\n",
      "{'Harsh': 4, 'Manvendra': 1, 'Yash': 5, 'Saksham is a good boy.': 1, 'Hemant': 1, 'Dinesh': 3, 'Raju': 2, 'Manoj': 1, 'Naman': 2, 'Chaman': 1, 'Saksham': 1, 'Nishant': 1, 'Narayan': 1}\n"
     ]
    }
   ],
   "source": [
    "with open('namedoc.txt', 'r') as file:\n",
    "    line1 = file.readlines()\n",
    "    print(file)\n",
    "dict1 = {}\n",
    "for i in line1:\n",
    "    word = i.strip()    # to remove newline character or any leading trailing whitespace\n",
    "    if word in dict1:\n",
    "        dict1[word] += 1\n",
    "    else:\n",
    "        dict1[word] = 1\n",
    "\n",
    "print(dict1)\n"
   ]
  },
  {
   "cell_type": "code",
   "execution_count": 32,
   "metadata": {},
   "outputs": [
    {
     "name": "stdout",
     "output_type": "stream",
     "text": [
      "\n",
      "{'Harsh': 4, 'Manvendra': 1, 'Yash': 5, 'Saksham is a good boy.': 1, 'Hemant': 1, 'Dinesh': 3, 'Raju': 2, 'Manoj': 1, 'Naman': 2, 'Chaman': 1, 'Saksham': 1, 'Nishant': 1, 'Narayan': 1}\n"
     ]
    }
   ],
   "source": [
    "a=open(\"namedoc.txt\",\"rt\")\n",
    "b = a.readlines()      # read each line instead of each character as in by default \n",
    "print(a.read())\n",
    "dict1 = {}\n",
    "for i in b:\n",
    "    word = i.strip()    # IMP: to remove newline character or any leading trailing whitespace\n",
    "    if word in dict1:\n",
    "        dict1[word] += 1\n",
    "    else:\n",
    "        dict1[word] = 1\n",
    "\n",
    "print(dict1)\n"
   ]
  },
  {
   "cell_type": "code",
   "execution_count": null,
   "metadata": {},
   "outputs": [],
   "source": []
  }
 ],
 "metadata": {
  "kernelspec": {
   "display_name": "Python 3",
   "language": "python",
   "name": "python3"
  },
  "language_info": {
   "codemirror_mode": {
    "name": "ipython",
    "version": 3
   },
   "file_extension": ".py",
   "mimetype": "text/x-python",
   "name": "python",
   "nbconvert_exporter": "python",
   "pygments_lexer": "ipython3",
   "version": "3.11.4"
  }
 },
 "nbformat": 4,
 "nbformat_minor": 2
}
