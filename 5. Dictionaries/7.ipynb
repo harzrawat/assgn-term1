{
 "cells": [
  {
   "cell_type": "markdown",
   "metadata": {},
   "source": [
    "7. Write a for loop to create another dictionary from the above where the marks are replaced by grades. Above 80 is A grade, 60–80 is B grade, 40–60 is C grade, and below 40 is F. Create another dictionary to store the max and average marks for each student. Use this dictionary to compute the final CPI/CGPA of the student. Course1 is of 4 credits, Course2 of 10 credits, and Course3 of 6 credits. Store these credits in a list. Write this dictionary as a json file, and read it back into a new dictionary."
   ]
  },
  {
   "cell_type": "code",
   "execution_count": 18,
   "metadata": {},
   "outputs": [
    {
     "name": "stdout",
     "output_type": "stream",
     "text": [
      "{'harsh': [80, 65, 47], 'manvendra': [30, 95, 51], 'ram': [82, 70, 64], 'saksham': [89, 92, 65], 'yash': [28, 78, 85]}\n",
      "{'harsh': ['B', 'B', 'C'], 'manvendra': ['F', 'A', 'C'], 'ram': ['A', 'B', 'B'], 'saksham': ['A', 'A', 'B'], 'yash': ['F', 'B', 'A']}\n",
      "<_io.TextIOWrapper name='dictm.json' mode='w' encoding='cp1252'>\n",
      "----------\n",
      "{'harsh': ['B', 'B', 'C'], 'manvendra': ['F', 'A', 'C'], 'ram': ['A', 'B', 'B'], 'saksham': ['A', 'A', 'B'], 'yash': ['F', 'B', 'A']}\n"
     ]
    }
   ],
   "source": [
    "import json\n",
    "\n",
    "dictm={}\n",
    "dictm['harsh']=[80,65,47]\n",
    "dictm['manvendra']=[30,95,51]\n",
    "dictm['ram']=[82,70,64]\n",
    "dictm['saksham']=[89,92,65]\n",
    "dictm['yash']=[28,78,85]\n",
    "course_name=['maths','physics','chemistry']\n",
    "print(dictm)\n",
    "for a,b in dictm.items():\n",
    "    for c in range(len(b)):\n",
    "        if b[c] in range(81,101):\n",
    "            dictm[a][c]='A'\n",
    "        elif b[c] in range(61,81):\n",
    "            dictm[a][c]='B'\n",
    "        elif b[c] in range(41,61):\n",
    "            dictm[a][c]='C'\n",
    "        else:\n",
    "            dictm[a][c]='F'\n",
    "        #print(dictm)\n",
    "print(dictm)\n",
    "\n",
    "file_path = \"dictm.json\"   # file path to save this file\n",
    "with open(file_path,'w') as json_file:         # w is to write the json file\n",
    "    json.dump(dictm, json_file)     # to save the json file to the destination\n",
    "print(json_file)\n",
    "\n",
    "with open(file_path,'r') as json_file:      # r to read the json file\n",
    "    dict_new = json.load(json_file)\n",
    "\n",
    "print(\"----------\")\n",
    "print(dict_new)\n"
   ]
  },
  {
   "cell_type": "code",
   "execution_count": 16,
   "metadata": {},
   "outputs": [
    {
     "name": "stdout",
     "output_type": "stream",
     "text": [
      "{'harsh': ['B', 'B', 'C'], 'manvendra': ['F', 'A', 'C'], 'ram': ['A', 'B', 'B'], 'saksham': ['A', 'A', 'B'], 'yash': ['F', 'B', 'A']}\n",
      "{'harsh': 7.538461538461538, 'manvendra': 7.230769230769231, 'ram': 8.615384615384615, 'saksham': 9.538461538461538, 'yash': 7.230769230769231}\n"
     ]
    }
   ],
   "source": [
    "# CPI calculation  \n",
    "\n",
    "\n",
    "# let A --> 10\n",
    "#  B --> 8\n",
    "#  C --> 6\n",
    "#  D --> 4 & credit for course 1,2,3 let be 4, 6, 3 respectively\n",
    "\n",
    "print(dictm)\n",
    "dict_cpi={}\n",
    "for a,b in dictm.items():\n",
    "    sum_m=0\n",
    "    for i in range(len(b)):\n",
    "        listcredits=[4,6,3]\n",
    "        j=listcredits[i]\n",
    "        \n",
    "        if b[i]=='A':\n",
    "            sum_m=sum_m+10*j          # concept--  CPI =  (Σ (grade_point)*(credit) ) /  Σ (credits)\n",
    "        elif b[i]=='B':\n",
    "            sum_m=sum_m+8*j\n",
    "        elif b[i]=='C':\n",
    "            sum_m=sum_m+6*j\n",
    "        else:\n",
    "            sum_m=sum_m+4*j\n",
    "    dict_cpi[a]=sum_m/13     # divide by 13\n",
    "print(dict_cpi)"
   ]
  },
  {
   "cell_type": "code",
   "execution_count": null,
   "metadata": {},
   "outputs": [],
   "source": []
  }
 ],
 "metadata": {
  "kernelspec": {
   "display_name": "Python 3",
   "language": "python",
   "name": "python3"
  },
  "language_info": {
   "codemirror_mode": {
    "name": "ipython",
    "version": 3
   },
   "file_extension": ".py",
   "mimetype": "text/x-python",
   "name": "python",
   "nbconvert_exporter": "python",
   "pygments_lexer": "ipython3",
   "version": "3.11.4"
  }
 },
 "nbformat": 4,
 "nbformat_minor": 2
}
