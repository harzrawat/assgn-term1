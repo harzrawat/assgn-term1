{
 "cells": [
  {
   "cell_type": "markdown",
   "metadata": {},
   "source": [
    "2. Merge these two dictionaries into one using for loop\n",
    "dict1 = {‘Ten’: 10, ‘Twenty’: 20, ‘Thirty’: 30}\n",
    "dict2 = {‘Thirty’: 30, ‘Fourty’: 40, ‘Fifty’: 50}"
   ]
  },
  {
   "cell_type": "code",
   "execution_count": 2,
   "metadata": {},
   "outputs": [
    {
     "name": "stdout",
     "output_type": "stream",
     "text": [
      "{'Ten': 10, 'Twenty': 20, 'Thirty': 30, 'Fourty': 40, 'Fifty': 50}\n"
     ]
    }
   ],
   "source": [
    "dict1 = {\"Ten\": 10,\"Twenty\": 20,\"Thirty\": 30}\n",
    "dict2 = {\"Thirty\": 30,\"Fourty\": 40, \"Fifty\": 50}\n",
    "dict3={}                                       # created new dictionary to iterate and fill all the values in it\n",
    "for a,b in dict1.items():\n",
    "    dict3[a] = b\n",
    "for a,b in dict2.items():                # a,b are keys & values          \n",
    "    dict3[a] = b\n",
    "print(dict3)\n",
    "\n",
    "\n"
   ]
  },
  {
   "cell_type": "code",
   "execution_count": 3,
   "metadata": {},
   "outputs": [
    {
     "name": "stdout",
     "output_type": "stream",
     "text": [
      "{'Ten': 10, 'Twenty': 20, 'Thirty': 30, 'Fourty': 40, 'Fifty': 50}\n"
     ]
    }
   ],
   "source": [
    "# method 2\n",
    "\n",
    "dict1 = {\"Ten\": 10,\"Twenty\": 20,\"Thirty\": 30}\n",
    "dict2 = {\"Thirty\": 30,\"Fourty\": 40, \"Fifty\": 50}\n",
    "dict3={}\n",
    "for a,b in dict2.items():             # updated dict2 with dict1 keys and values \n",
    "    dict1[a] = b\n",
    "print(dict1)\n",
    "\n"
   ]
  },
  {
   "cell_type": "code",
   "execution_count": null,
   "metadata": {},
   "outputs": [],
   "source": []
  }
 ],
 "metadata": {
  "kernelspec": {
   "display_name": "Python 3",
   "language": "python",
   "name": "python3"
  },
  "language_info": {
   "codemirror_mode": {
    "name": "ipython",
    "version": 3
   },
   "file_extension": ".py",
   "mimetype": "text/x-python",
   "name": "python",
   "nbconvert_exporter": "python",
   "pygments_lexer": "ipython3",
   "version": "3.11.4"
  }
 },
 "nbformat": 4,
 "nbformat_minor": 2
}
