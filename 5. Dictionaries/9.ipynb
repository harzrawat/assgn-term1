{
 "cells": [
  {
   "cell_type": "markdown",
   "metadata": {},
   "source": [
    "9. Create a dictionary whose keys are the names of your family members and friends, and the values are the list of fruits they like to eat. Now if the user gives a fruit as input, the code should print the list of names who like this fruit. Write another code to print the list of people who do not like this fruit. Using this dictionary as input, write a code to make a consolidated list of all the fruit names present in the values of various keys. This list should not have any duplicate entries. Do not use the set() function."
   ]
  },
  {
   "cell_type": "code",
   "execution_count": 1,
   "metadata": {},
   "outputs": [
    {
     "name": "stdout",
     "output_type": "stream",
     "text": [
      "name of all who likes Mango are ['Rohit', 'Harsh']\n",
      "name of all who  don't likes Mango are ['Vidhi', 'Sumit']\n"
     ]
    }
   ],
   "source": [
    "dict_fam={\"Rohit\":[\"Mango\",\"Grapes\",\"Guava\"],\"Harsh\":[\"Pineapple\",\"Mango\",\"Papaya\",\"Blackberry\"],\"Vidhi\":[\"Papaya\",\"Blackberry\",\"Banana\",\"Pomegranate\"],\"Sumit\":[\"Banana\",\"Grapes\",\"Pineapple\"]}\n",
    "fruit=input(\"enter the fruit name\")\n",
    "list_name=[]\n",
    "list_not=[]\n",
    "for a,b in dict_fam.items():\n",
    "    if fruit in b:\n",
    "        list_name.append(a)\n",
    "    else:\n",
    "        list_not.append(a)\n",
    "print(\"name of all who likes\", fruit,\"are\", list_name)\n",
    "print(\"name of all who  don't likes\", fruit,\"are\", list_not)\n",
    "\n",
    "\n",
    "\n"
   ]
  },
  {
   "cell_type": "code",
   "execution_count": 1,
   "metadata": {},
   "outputs": [
    {
     "name": "stdout",
     "output_type": "stream",
     "text": [
      "['Mango', 'Grapes', 'Guava', 'Pineapple', 'Papaya', 'Blackberry', 'Banana', 'Pomegranate']\n"
     ]
    }
   ],
   "source": [
    "# list of all fruits\n",
    "\n",
    "dict_fam={\"Rohit\":[\"Mango\",\"Grapes\",\"Guava\"],\"Harsh\":[\"Pineapple\",\"Mango\",\"Papaya\",\"Blackberry\"],\"Vidhi\":[\"Papaya\",\"Blackberry\",\"Banana\",\"Pomegranate\"],\"Sumit\":[\"Banana\",\"Grapes\",\"Pineapple\"]}\n",
    "lst_fruits=[]\n",
    "for b in dict_fam.values():\n",
    "    for i in b:\n",
    "        if i not in lst_fruits:            # to prevent redundancy \n",
    "            lst_fruits.append(i)\n",
    "print(lst_fruits)\n",
    "\n",
    "\n",
    "\n"
   ]
  },
  {
   "cell_type": "code",
   "execution_count": null,
   "metadata": {},
   "outputs": [],
   "source": []
  }
 ],
 "metadata": {
  "kernelspec": {
   "display_name": "Python 3",
   "language": "python",
   "name": "python3"
  },
  "language_info": {
   "codemirror_mode": {
    "name": "ipython",
    "version": 3
   },
   "file_extension": ".py",
   "mimetype": "text/x-python",
   "name": "python",
   "nbconvert_exporter": "python",
   "pygments_lexer": "ipython3",
   "version": "3.11.4"
  }
 },
 "nbformat": 4,
 "nbformat_minor": 2
}
