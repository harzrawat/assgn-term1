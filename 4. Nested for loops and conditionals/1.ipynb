{
 "cells": [
  {
   "cell_type": "markdown",
   "metadata": {},
   "source": [
    "1. Given a list of positive integers, find the factorial of all the numbers."
   ]
  },
  {
   "cell_type": "code",
   "execution_count": 2,
   "metadata": {},
   "outputs": [
    {
     "name": "stdout",
     "output_type": "stream",
     "text": [
      "factorial of corresponding numbers are [39916800, 120, 6227020800, 40320, 5040, 362880]\n"
     ]
    }
   ],
   "source": [
    "lst1=[11,5,13,8,7,9]\n",
    "lst_fact=[]\n",
    "for i in lst1:\n",
    "    fact=1\n",
    "    for j in range(1,i):                # iterate number one by one and then calulating factorial\n",
    "        fact=fact*(j+1)\n",
    "    lst_fact.append(fact)\n",
    "print(\"factorial of corresponding numbers are\",lst_fact)\n",
    "    "
   ]
  },
  {
   "cell_type": "code",
   "execution_count": null,
   "metadata": {},
   "outputs": [],
   "source": []
  }
 ],
 "metadata": {
  "kernelspec": {
   "display_name": "Python 3",
   "language": "python",
   "name": "python3"
  },
  "language_info": {
   "codemirror_mode": {
    "name": "ipython",
    "version": 3
   },
   "file_extension": ".py",
   "mimetype": "text/x-python",
   "name": "python",
   "nbconvert_exporter": "python",
   "pygments_lexer": "ipython3",
   "version": "3.11.4"
  }
 },
 "nbformat": 4,
 "nbformat_minor": 2
}
