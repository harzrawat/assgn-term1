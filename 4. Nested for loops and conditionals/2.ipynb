{
 "cells": [
  {
   "cell_type": "markdown",
   "metadata": {},
   "source": [
    "2. Given two numbers, find its Least Common Multiple (LCM)."
   ]
  },
  {
   "cell_type": "code",
   "execution_count": 1,
   "metadata": {},
   "outputs": [
    {
     "name": "stdout",
     "output_type": "stream",
     "text": [
      "lcm of given numbers is 60\n"
     ]
    }
   ],
   "source": [
    "# iterating over range from product to max of both nums which is range for any lcm\n",
    "\n",
    "a=int(input(\"enter a positive integer\"))\n",
    "b=int(input(\"enter a positive integer\"))\n",
    "for i in range(a*b,max(a,b)-1,-1):\n",
    "    if i%a == 0 and i%b == 0:\n",
    "        lcm=i\n",
    "print(\"lcm of given numbers is\",lcm)"
   ]
  },
  {
   "cell_type": "code",
   "execution_count": 2,
   "metadata": {},
   "outputs": [
    {
     "name": "stdout",
     "output_type": "stream",
     "text": [
      "lcm of given numbers is 60\n"
     ]
    }
   ],
   "source": [
    "# without using max\n",
    "\n",
    "a=int(input(\"enter a positive integer\"))\n",
    "b=int(input(\"enter a positive integer\"))\n",
    "if a>b:\n",
    "    m=a\n",
    "else:                                  # \"equal to case\" is not included here bcz if both a,b are equal then m will be equal to b, that's ok \n",
    "    m=b                   \n",
    "for i in range(a*b,m-1,-1):\n",
    "    if i%a == 0 and i%b == 0:\n",
    "        lcm=i\n",
    "print(\"lcm of given numbers is\",lcm)"
   ]
  },
  {
   "cell_type": "code",
   "execution_count": null,
   "metadata": {},
   "outputs": [],
   "source": []
  }
 ],
 "metadata": {
  "kernelspec": {
   "display_name": "Python 3",
   "language": "python",
   "name": "python3"
  },
  "language_info": {
   "codemirror_mode": {
    "name": "ipython",
    "version": 3
   },
   "file_extension": ".py",
   "mimetype": "text/x-python",
   "name": "python",
   "nbconvert_exporter": "python",
   "pygments_lexer": "ipython3",
   "version": "3.11.4"
  }
 },
 "nbformat": 4,
 "nbformat_minor": 2
}
