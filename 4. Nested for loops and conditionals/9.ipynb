{
 "cells": [
  {
   "cell_type": "markdown",
   "metadata": {},
   "source": [
    "9. Given a string input, find out if it’s a palindrome."
   ]
  },
  {
   "cell_type": "code",
   "execution_count": 2,
   "metadata": {},
   "outputs": [
    {
     "name": "stdout",
     "output_type": "stream",
     "text": [
      "naman\n",
      "naman is a palindrome\n"
     ]
    }
   ],
   "source": [
    "str1=input('enter a word')\n",
    "print(str1)\n",
    "l=len(str1)\n",
    "if str1 == str1[::-1]:     # here -l//2 = GIF of -l/2\n",
    "    print(str1,\"is a palindrome\")\n",
    "else:\n",
    "    print(str1,\"is not a palindrome\")\n"
   ]
  },
  {
   "cell_type": "code",
   "execution_count": 50,
   "metadata": {},
   "outputs": [
    {
     "name": "stdout",
     "output_type": "stream",
     "text": [
      "naman\n",
      "it's a palindrome\n"
     ]
    }
   ],
   "source": [
    "# method 2\n",
    "str1=input('enter a word')\n",
    "print(str1)\n",
    "l=len(str1)\n",
    "c=0\n",
    "for i in range(l//2):\n",
    "    if str1[i]!=str1[l-i-1]:\n",
    "        c+=1\n",
    "if c==0:\n",
    "    print(\"it's a palindrome\")\n",
    "else:\n",
    "    print(\"it's not a palindrome\")\n",
    "\n",
    "        "
   ]
  },
  {
   "cell_type": "code",
   "execution_count": null,
   "metadata": {},
   "outputs": [],
   "source": []
  }
 ],
 "metadata": {
  "kernelspec": {
   "display_name": "Python 3",
   "language": "python",
   "name": "python3"
  },
  "language_info": {
   "codemirror_mode": {
    "name": "ipython",
    "version": 3
   },
   "file_extension": ".py",
   "mimetype": "text/x-python",
   "name": "python",
   "nbconvert_exporter": "python",
   "pygments_lexer": "ipython3",
   "version": "3.11.4"
  }
 },
 "nbformat": 4,
 "nbformat_minor": 2
}
