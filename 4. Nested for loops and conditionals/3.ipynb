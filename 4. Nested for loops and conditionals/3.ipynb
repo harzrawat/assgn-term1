{
 "cells": [
  {
   "cell_type": "markdown",
   "metadata": {},
   "source": [
    "3. Given two numbers, find its Greatest Common Divisor (Divisor)."
   ]
  },
  {
   "cell_type": "code",
   "execution_count": 3,
   "metadata": {},
   "outputs": [
    {
     "name": "stdout",
     "output_type": "stream",
     "text": [
      "126 & 12\n",
      "hcf of given numbers is 6\n"
     ]
    }
   ],
   "source": [
    "# running from 1 to min of the two which is the range of any hcf\n",
    "\n",
    "a=int(input(\"enter a positive integer\"))\n",
    "b=int(input(\"enter a positive integer\"))\n",
    "print(a,'&',b)\n",
    "if a<b:\n",
    "    m=a\n",
    "else:                                  \n",
    "    m=b                   \n",
    "for i in range(1,m+1):\n",
    "    if a%i == 0 and b%i == 0:\n",
    "        hcf=i                               # hcf changes untill reaches the greatest satisfied condition\n",
    "print(\"hcf of given numbers is\",hcf)"
   ]
  },
  {
   "cell_type": "code",
   "execution_count": null,
   "metadata": {},
   "outputs": [],
   "source": [
    "12"
   ]
  }
 ],
 "metadata": {
  "kernelspec": {
   "display_name": "Python 3",
   "language": "python",
   "name": "python3"
  },
  "language_info": {
   "codemirror_mode": {
    "name": "ipython",
    "version": 3
   },
   "file_extension": ".py",
   "mimetype": "text/x-python",
   "name": "python",
   "nbconvert_exporter": "python",
   "pygments_lexer": "ipython3",
   "version": "3.11.4"
  }
 },
 "nbformat": 4,
 "nbformat_minor": 2
}
