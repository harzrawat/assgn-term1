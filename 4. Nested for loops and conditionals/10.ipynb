{
 "cells": [
  {
   "cell_type": "markdown",
   "metadata": {},
   "source": [
    "10. Given two 3x3 matrices with values stored in two lists of length 9, find their product."
   ]
  },
  {
   "cell_type": "code",
   "execution_count": 13,
   "metadata": {},
   "outputs": [
    {
     "name": "stdout",
     "output_type": "stream",
     "text": [
      "[[70, 80, 90], [158, 184, 210], [246, 288, 330]]\n"
     ]
    }
   ],
   "source": [
    "# mmethod 1 (general method )\n",
    "\n",
    "mat1=[[1,2,3,4],[5,6,7,8],[9,10,11,12]]              # 4x3 matrix\n",
    "mat2=[[1,2,3],[4,5,6],[7,8,9],[10,11,12]]            # 4x3 matrix\n",
    "mat_mul=[]\n",
    "for i in range(len(mat1)):\n",
    "    a_lst=[]\n",
    "    for j in range(len(mat1)):\n",
    "        a=0\n",
    "        for k in range(len(mat2)):\n",
    "            a+=mat1[i][k]*mat2[k][j]             # totally the multiplication is done in 3x4x4=48 steps, and an element is calulated by adding 4 of row and 4 of column elements\n",
    "        #print(a)\n",
    "        a_lst.append(a)\n",
    "    mat_mul.append(a_lst)\n",
    "print(mat_mul)\n",
    "\n"
   ]
  },
  {
   "cell_type": "code",
   "execution_count": 14,
   "metadata": {},
   "outputs": [
    {
     "name": "stdout",
     "output_type": "stream",
     "text": [
      "[[30, 36, 42], [66, 81, 96], [102, 126, 150]]\n"
     ]
    }
   ],
   "source": [
    "# method (specific for 3x3 matrices)\n",
    "\n",
    "mat1=[[1,2,3],[4,5,6],[7,8,9]]\n",
    "mat2=[[1,2,3],[4,5,6],[7,8,9]]\n",
    "mat_mul=[]\n",
    "for i in mat1:\n",
    "    a1=0\n",
    "    a2=0\n",
    "    a3=0\n",
    "    for j in range(len(mat2)):\n",
    "        a1+=i[j]*mat2[j][0]\n",
    "        a2+=i[j]*mat2[j][1]\n",
    "        a3+=i[j]*mat2[j][2]\n",
    "    mat_mul.append([a1,a2,a3])\n",
    "print(mat_mul)\n",
    "    \n",
    "\n"
   ]
  },
  {
   "cell_type": "code",
   "execution_count": null,
   "metadata": {},
   "outputs": [],
   "source": []
  }
 ],
 "metadata": {
  "kernelspec": {
   "display_name": "Python 3",
   "language": "python",
   "name": "python3"
  },
  "language_info": {
   "codemirror_mode": {
    "name": "ipython",
    "version": 3
   },
   "file_extension": ".py",
   "mimetype": "text/x-python",
   "name": "python",
   "nbconvert_exporter": "python",
   "pygments_lexer": "ipython3",
   "version": "3.11.4"
  }
 },
 "nbformat": 4,
 "nbformat_minor": 2
}
