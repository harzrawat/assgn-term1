{
 "cells": [
  {
   "cell_type": "markdown",
   "metadata": {},
   "source": [
    "8. Given a list of numbers, create another list in reverse order."
   ]
  },
  {
   "cell_type": "code",
   "execution_count": 3,
   "metadata": {},
   "outputs": [
    {
     "name": "stdout",
     "output_type": "stream",
     "text": [
      "[98, 23, 17, 4, 78, 12, 34]\n"
     ]
    }
   ],
   "source": [
    "# method 1\n",
    "lst=[34,12,78,4,17,23,98]\n",
    "lst2=lst[::-1]         # direct reverse slicing \n",
    "print(lst2)\n"
   ]
  },
  {
   "cell_type": "code",
   "execution_count": 4,
   "metadata": {},
   "outputs": [
    {
     "name": "stdout",
     "output_type": "stream",
     "text": [
      "[98, 23, 17, 4, 78, 12, 34]\n"
     ]
    }
   ],
   "source": [
    "# method 2\n",
    "lst=[34,12,78,4,17,23,98]\n",
    "lst_rev=[]\n",
    "for i in range(len(lst),0,-1):      # created new list and appended values from end of first list\n",
    "    lst_rev.append(lst[i-1])\n",
    "print(lst_rev)"
   ]
  }
 ],
 "metadata": {
  "kernelspec": {
   "display_name": "Python 3",
   "language": "python",
   "name": "python3"
  },
  "language_info": {
   "codemirror_mode": {
    "name": "ipython",
    "version": 3
   },
   "file_extension": ".py",
   "mimetype": "text/x-python",
   "name": "python",
   "nbconvert_exporter": "python",
   "pygments_lexer": "ipython3",
   "version": "3.11.4"
  }
 },
 "nbformat": 4,
 "nbformat_minor": 2
}
