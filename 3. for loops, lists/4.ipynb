{
 "cells": [
  {
   "cell_type": "markdown",
   "metadata": {},
   "source": [
    "4. Given a list of numbers, find out the mean and standard deviation."
   ]
  },
  {
   "cell_type": "code",
   "execution_count": 2,
   "metadata": {},
   "outputs": [
    {
     "name": "stdout",
     "output_type": "stream",
     "text": [
      "mean = 38.0\n",
      "standard deviation = 33.19638534539566\n"
     ]
    }
   ],
   "source": [
    "lst=[34,12,78,4,17,23,98]\n",
    "sum1=0\n",
    "l=len(lst)\n",
    "for i in lst:\n",
    "    sum1+=i\n",
    "m=sum1/l\n",
    "u=0\n",
    "for i in lst:\n",
    "    u+=(i-m)**2                     # directly used standard deviation formula \n",
    "std_dev=(u/l)**0.5                \n",
    "print(\"mean =\", m)\n",
    "print(\"standard deviation =\", std_dev)\n"
   ]
  },
  {
   "cell_type": "code",
   "execution_count": null,
   "metadata": {},
   "outputs": [],
   "source": []
  }
 ],
 "metadata": {
  "kernelspec": {
   "display_name": "Python 3",
   "language": "python",
   "name": "python3"
  },
  "language_info": {
   "codemirror_mode": {
    "name": "ipython",
    "version": 3
   },
   "file_extension": ".py",
   "mimetype": "text/x-python",
   "name": "python",
   "nbconvert_exporter": "python",
   "pygments_lexer": "ipython3",
   "version": "3.11.4"
  }
 },
 "nbformat": 4,
 "nbformat_minor": 2
}
