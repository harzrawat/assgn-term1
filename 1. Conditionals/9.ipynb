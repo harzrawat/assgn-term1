{
 "cells": [
  {
   "cell_type": "markdown",
   "metadata": {},
   "source": [
    "9. Given three points, find out whether they lie on the same straight line or not."
   ]
  },
  {
   "cell_type": "code",
   "execution_count": 2,
   "metadata": {},
   "outputs": [
    {
     "name": "stdout",
     "output_type": "stream",
     "text": [
      "(12.0, 23.0) (45.0, 12.0) (4.0, 3.0)\n",
      "they are not collinear\n"
     ]
    }
   ],
   "source": [
    "\n",
    "x1=float(input(\"enter x1\"))\n",
    "y1=float(input(\"enter y1\"))          # concept :\n",
    "x2=float(input(\"enter x2\"))        # bcz area of three colinear pts is 0 \n",
    "y2=float(input(\"enter y2\"))\n",
    "x3=float(input(\"enter x3\"))\n",
    "y3=float(input(\"enter y3\"))\n",
    "print((x1,y1),(x2,y2),(x3,y3))\n",
    "A= (x1*(y2-y3)+x2*(y3-y1)+x3*(y1-y2))    # derived from formula for area of triangle\n",
    "if A==0:\n",
    "    print(\"given points are collinear\")\n",
    "else:\n",
    "    print(\"they are not collinear\")"
   ]
  },
  {
   "cell_type": "code",
   "execution_count": null,
   "metadata": {},
   "outputs": [],
   "source": []
  }
 ],
 "metadata": {
  "kernelspec": {
   "display_name": "Python 3",
   "language": "python",
   "name": "python3"
  },
  "language_info": {
   "codemirror_mode": {
    "name": "ipython",
    "version": 3
   },
   "file_extension": ".py",
   "mimetype": "text/x-python",
   "name": "python",
   "nbconvert_exporter": "python",
   "pygments_lexer": "ipython3",
   "version": "3.11.4"
  }
 },
 "nbformat": 4,
 "nbformat_minor": 2
}
