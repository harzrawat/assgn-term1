{
 "cells": [
  {
   "cell_type": "markdown",
   "metadata": {},
   "source": [
    "7. Given two points (x1, y1) and (x2, y2), find the slope and intercept of the line joining these two points (the line may be perfectly horizontal or vertical)."
   ]
  },
  {
   "cell_type": "code",
   "execution_count": 4,
   "metadata": {},
   "outputs": [
    {
     "name": "stdout",
     "output_type": "stream",
     "text": [
      "(-1, 1) (1, 3)\n",
      "slope of line joining these points is  1.0\n",
      "intercept of line joining these points is  2.0\n"
     ]
    }
   ],
   "source": [
    "x1=int(input(\"enter the 1st x coordinate\"))\n",
    "y1=int(input(\"enter the 1st y coordinate\"))\n",
    "x2=int(input(\"enter the 2nd x coordinate\"))\n",
    "y2=int(input(\"enter the 2nd y coordinate\"))\n",
    "print((x1,y1),(x2,y2))\n",
    "if x2-x1!=0:\n",
    "    m=(y1-y2)/(x1-x2)\n",
    "    print(\"slope of line joining these points is \",m)\n",
    "else:\n",
    "    print(\"slope of line joining these points is not defined\")\n",
    "t=(m*(0-x2))+y2\n",
    "print(\"intercept of line joining these points is \",t)\n",
    "\n"
   ]
  },
  {
   "cell_type": "code",
   "execution_count": null,
   "metadata": {},
   "outputs": [],
   "source": []
  }
 ],
 "metadata": {
  "kernelspec": {
   "display_name": "Python 3",
   "language": "python",
   "name": "python3"
  },
  "language_info": {
   "codemirror_mode": {
    "name": "ipython",
    "version": 3
   },
   "file_extension": ".py",
   "mimetype": "text/x-python",
   "name": "python",
   "nbconvert_exporter": "python",
   "pygments_lexer": "ipython3",
   "version": "3.11.4"
  }
 },
 "nbformat": 4,
 "nbformat_minor": 2
}
