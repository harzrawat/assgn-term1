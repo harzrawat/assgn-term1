{
 "cells": [
  {
   "cell_type": "markdown",
   "metadata": {},
   "source": [
    "1.Given an integer, check if it is even or odd"
   ]
  },
  {
   "cell_type": "code",
   "execution_count": 3,
   "metadata": {},
   "outputs": [
    {
     "name": "stdout",
     "output_type": "stream",
     "text": [
      "25\n",
      "it is an odd number\n"
     ]
    }
   ],
   "source": [
    "num1=int(input(\"enter a non-negative integer\"))\n",
    "print(num1)\n",
    "if num1>=0:\n",
    "    if num1%2==0:\n",
    "        print(\"it is a even number\")        # if divisible by 2 then even otherwise odd for any non-negative number\n",
    "    else:\n",
    "        print(\"it is an odd number\")\n",
    "else:\n",
    "    print(\"entered value is not a non-negative integer\")"
   ]
  },
  {
   "cell_type": "code",
   "execution_count": null,
   "metadata": {},
   "outputs": [],
   "source": []
  }
 ],
 "metadata": {
  "kernelspec": {
   "display_name": "Python 3",
   "language": "python",
   "name": "python3"
  },
  "language_info": {
   "codemirror_mode": {
    "name": "ipython",
    "version": 3
   },
   "file_extension": ".py",
   "mimetype": "text/x-python",
   "name": "python",
   "nbconvert_exporter": "python",
   "pygments_lexer": "ipython3",
   "version": "3.11.4"
  }
 },
 "nbformat": 4,
 "nbformat_minor": 2
}
