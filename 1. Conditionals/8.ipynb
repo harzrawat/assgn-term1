{
 "cells": [
  {
   "cell_type": "markdown",
   "metadata": {},
   "source": [
    "8. Given a quadratic equation with coefficients a, b and c, find the two solutions (may be real or complex). You should not take the square root of a negative number in your code."
   ]
  },
  {
   "cell_type": "code",
   "execution_count": 4,
   "metadata": {},
   "outputs": [
    {
     "name": "stdout",
     "output_type": "stream",
     "text": [
      "equation is 4.0 x^2+ 6.0 x+ 12.0 =0\n",
      "it has complex roots  real part is  -12.0 and imaginary part of the the roots is 24.979991993593593____"
     ]
    }
   ],
   "source": [
    "a=float(input(\"enter the coefficient of x square\"))\n",
    "b=float(input(\"enter the coefficient of x\"))\n",
    "c=float(input(\"enter the constant term\"))\n",
    "print(\"equation is\",a,\"x^2+\",b,\"x+\",c,\"=0\")\n",
    "D=b**2-4*a*c\n",
    "D2=0-D\n",
    "real=-b/2*a\n",
    "img=(D2**0.5)/2*a\n",
    "if a!=0:\n",
    "    if D>=0:\n",
    "        print(\"roots of the equations are\", (-b+(D**(1/2)))/2*a, \"and\", (-b-(D**(1/2)))/2*a)\n",
    "    elif D<0:\n",
    "        print(\"it has complex roots \", \"real part is \", real,\"and imaginary part of the the roots is\",img,end=\"____\" )\n",
    "else:\n",
    "    print(\"only one root of the equation is\", -c/b)        \n",
    "    #print(\"roots of the equations are\", (-b+(D2**(1/2))\"i\")/2*a, \"and\", (-b-(D2**(1/2)\"i\")/2*a))"
   ]
  },
  {
   "cell_type": "code",
   "execution_count": null,
   "metadata": {},
   "outputs": [],
   "source": []
  }
 ],
 "metadata": {
  "kernelspec": {
   "display_name": "Python 3",
   "language": "python",
   "name": "python3"
  },
  "language_info": {
   "codemirror_mode": {
    "name": "ipython",
    "version": 3
   },
   "file_extension": ".py",
   "mimetype": "text/x-python",
   "name": "python",
   "nbconvert_exporter": "python",
   "pygments_lexer": "ipython3",
   "version": "3.11.4"
  }
 },
 "nbformat": 4,
 "nbformat_minor": 2
}
